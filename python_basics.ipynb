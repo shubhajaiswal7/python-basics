{
  "nbformat": 4,
  "nbformat_minor": 0,
  "metadata": {
    "colab": {
      "provenance": []
    },
    "kernelspec": {
      "name": "python3",
      "display_name": "Python 3"
    },
    "language_info": {
      "name": "python"
    }
  },
  "cells": [
    {
      "cell_type": "markdown",
      "source": [
        "# **Theory questions**"
      ],
      "metadata": {
        "id": "Y4tQTpiJwsbL"
      }
    },
    {
      "cell_type": "markdown",
      "source": [
        "1. What is Python, and why is it popular?\n",
        "python is a open-source programming language, it is simple and case senstive language.\n",
        "it is very popular because it is easy to learn and have simple syntax ,it is versatile,have so many libraries and frameworks"
      ],
      "metadata": {
        "id": "CW-_ZiJQhy8J"
      }
    },
    {
      "cell_type": "markdown",
      "source": [
        "2. What is an interpreter in Python?\n",
        "in python , interpreter is a program that read and executes the python code directly,interpreter read the code line by line unlike a compiler.\n"
      ],
      "metadata": {
        "id": "yyNigrs8j2kd"
      }
    },
    {
      "cell_type": "markdown",
      "source": [
        "3.What are pre-defined keywords in Python?\n",
        "in python there are several predefined keywords that have thier own special meaning, for example:\n",
        "\n",
        "\n",
        "*   else\n",
        "*   import\n",
        "\n",
        "\n",
        "*   and\n",
        "\n",
        "*  break\n",
        "\n",
        "*  if\n",
        "*   for\n",
        "\n",
        "\n",
        "\n",
        "\n",
        "\n",
        "*   elif\n",
        "\n",
        "\n",
        "\n"
      ],
      "metadata": {
        "id": "9_pwUeJtkjJo"
      }
    },
    {
      "cell_type": "markdown",
      "source": [
        "4.Can keywords be used as variable names?\n",
        "NO,keywords can never be used as a variable name."
      ],
      "metadata": {
        "id": "cdLD_nHAlyNv"
      }
    },
    {
      "cell_type": "markdown",
      "source": [
        "5.What is mutability in Python?\n",
        "In Python, mutability is defined as the ability of an object to be changed after it is created.\n",
        "\n",
        "List: A list is mutable because its elements can be modified. So, a list is mutable.\n",
        "\n",
        "String: A string is not mutable because it cannot be modified after creation. So, a string is not mutable."
      ],
      "metadata": {
        "id": "7J6H9A5OmEQz"
      }
    },
    {
      "cell_type": "markdown",
      "source": [
        "6.Why are lists mutable, but tuples are immutable?\n",
        "List id mutable because its element can be modified after creation but in Tuples the elements can not be modified after creation , this is why list is mutable and tuple is immutable."
      ],
      "metadata": {
        "id": "GnzHLhoCnfa2"
      }
    },
    {
      "cell_type": "markdown",
      "source": [
        "7. What is the difference between “==” and “is” operators in Python?\n",
        "Difference Between \"is\" and \"==\"\n",
        "\"is\" → Checks if two variables refer to the same object in memory.\n",
        "\n",
        "\"==\" → Checks if two variables have the same value, even if they are different objects in memory.\n",
        "for example:\n",
        "a = [1, 2, 3]\n",
        "b = [1, 2, 3]\n",
        "c = a  \n",
        "\n",
        "print(a == b)  # True  (Values are the same)\n",
        "print(a is b)  # False (Different objects in memory)\n",
        "print(a is c)  # True  (Same object in memory)\n"
      ],
      "metadata": {
        "id": "2R64CVPaoL7o"
      }
    },
    {
      "cell_type": "markdown",
      "source": [],
      "metadata": {
        "id": "eLhfJMN4p6e0"
      }
    },
    {
      "cell_type": "markdown",
      "source": [],
      "metadata": {
        "id": "eQ3Ep8cgjsPH"
      }
    },
    {
      "cell_type": "markdown",
      "source": [
        "8.What are logical operators in Python?\n",
        "Logical operators are used to combine conditional statements and return True or False based on the conditions.\n",
        "\n",
        "\n",
        "*   And → Both conditions must be True\n",
        "\n",
        "*    Or → At least one condition must be True\n",
        "* Not → Negates the boolean result  \n",
        "\n",
        "\n",
        "\n",
        "\n"
      ],
      "metadata": {
        "id": "_KaQ30Iep_3q"
      }
    },
    {
      "cell_type": "markdown",
      "source": [
        "9.What is type casting in Python?\n",
        "In python , typecasting is converting one datatype into another datatype."
      ],
      "metadata": {
        "id": "nQ1H2n-Msazl"
      }
    },
    {
      "cell_type": "markdown",
      "source": [
        "10. What is the difference between implicit and explicit type casting?\n",
        "\n",
        "\n",
        "*   Implicit Type Casting:Python automatically converts one data type to another.\n",
        "*   Explicit Type Casting:The programmer manually converts one data type to another.\n",
        "\n"
      ],
      "metadata": {
        "id": "0y7xrmdIs0g-"
      }
    },
    {
      "cell_type": "markdown",
      "source": [
        "11. What is the purpose of conditional statements in Python?\n",
        "Conditional statements in Python are used to make decisions in a program based on specific conditions. They allow the program to execute different blocks of code depending on whether a condition is True or False.\n"
      ],
      "metadata": {
        "id": "eqZxwLvatOz3"
      }
    },
    {
      "cell_type": "markdown",
      "source": [
        "12. How does the elif statement work?\n",
        "\n",
        "\n",
        "1.   The program first checks the \"if\" condition.\n",
        "\n",
        "2.   If \"if\" is True, it executes that block and skips the rest.\n",
        "\n",
        "3.  If \"if\" is False, it moves to the \"elif\" condition.\n",
        "4. If an \"elif\" condition is \"True\", it executes that block and skips the rest.  \n",
        "\n",
        "\n",
        "5.  If all conditions are False, the \"else\" block (if present) executes.\n",
        "\n",
        "\n",
        "\n",
        "\n"
      ],
      "metadata": {
        "id": "UgREY8JQtiHp"
      }
    },
    {
      "cell_type": "markdown",
      "source": [
        "13. What is the difference between for and while loops?\n",
        "for loop is Used when the number of iterations is known.and while loop is Used when the number of iterations is unknown and depends on a condition.\n",
        "\n"
      ],
      "metadata": {
        "id": "J6AROaPGuiUa"
      }
    },
    {
      "cell_type": "markdown",
      "source": [
        "14. Describe a scenario where a while loop is more suitable than a for loop.\n",
        "Imagine you are creating a program that asks a user to enter a valid password. The program should keep asking until the user enters the correct password.\n",
        "\n",
        "Using a while Loop (Better Choice)\n",
        "\n",
        "---\n",
        "\n",
        "\n",
        "correct_password = \"Python123\"\n",
        "user_input = \"\"\n",
        "\n",
        "while user_input != correct_password:\n",
        "    user_input = input(\"Enter the password: \")\n",
        "    \n",
        "print(\"Access Granted!\")\n",
        "\n",
        "When a for Loop Would NOT Be Ideal\n",
        "\n",
        "---\n",
        "\n",
        "\n",
        "If we use a for loop instead, we'd have to assume a fixed number of attempts, which isn't ideal:\n",
        "for _ in range(5):  # Limited attempts\n",
        "    user_input = input(\"Enter the password: \")\n",
        "    if user_input == correct_password:\n",
        "        print(\"Access Granted!\")\n",
        "        break\n",
        "else:\n",
        "    print(\"Too many incorrect attempts!\")\n",
        "\n",
        "\n",
        "---\n",
        "Why Use while?\n",
        "\n",
        "The number of attempts is unknown because we don't know when the user will enter the correct password.\n",
        "\n",
        "The loop keeps running until the user inputs the correct password.\n",
        "\n",
        "A for loop would not work well here because it runs a fixed number of times.\n",
        "\n",
        "Problem in for:\n",
        "\n",
        "If the user enters the correct password on the first try, extra iterations are wasted.\n",
        "\n",
        "If they need more than 5 tries, they are locked out.\n",
        "\n",
        "\n",
        "\n",
        "\n",
        "\n"
      ],
      "metadata": {
        "id": "uvWPagiNvMa9"
      }
    },
    {
      "cell_type": "markdown",
      "source": [
        "# **Practical Questions**"
      ],
      "metadata": {
        "id": "kRYsgBlHwfVl"
      }
    },
    {
      "cell_type": "markdown",
      "source": [
        "1.Write a Python program to print \"Hello, World\""
      ],
      "metadata": {
        "id": "cPV4KfDTwpL8"
      }
    },
    {
      "cell_type": "code",
      "source": [
        "print(\"Hello,World\")"
      ],
      "metadata": {
        "id": "TDM9R2rsxIJV",
        "outputId": "6f57c35b-0b65-4027-95c0-5e7bd144f95d",
        "colab": {
          "base_uri": "https://localhost:8080/",
          "height": 0
        }
      },
      "execution_count": 1,
      "outputs": [
        {
          "output_type": "stream",
          "name": "stdout",
          "text": [
            "Hello,World\n"
          ]
        }
      ]
    },
    {
      "cell_type": "markdown",
      "source": [
        "2.Write a Python program that displays your name and age."
      ],
      "metadata": {
        "id": "qXA0_hmExUf1"
      }
    },
    {
      "cell_type": "code",
      "source": [
        "name=\"Shubha Jaiswal\";\n",
        "age=22;\n",
        "print(\"my name is\", name,\"and my age is\", age)\n",
        ""
      ],
      "metadata": {
        "id": "i8mFe6brxYXF",
        "outputId": "97088834-9131-4c0e-e72c-bef339b6d558",
        "colab": {
          "base_uri": "https://localhost:8080/",
          "height": 0
        }
      },
      "execution_count": 5,
      "outputs": [
        {
          "output_type": "stream",
          "name": "stdout",
          "text": [
            "my name is Shubha Jaiswal and my age is 22\n"
          ]
        }
      ]
    },
    {
      "cell_type": "markdown",
      "source": [
        "3. Write code to print all the pre-defined keywords in Python using the keyword library."
      ],
      "metadata": {
        "id": "md2PuaCIyLBh"
      }
    },
    {
      "cell_type": "code",
      "source": [
        "import keyword\n",
        "\n",
        "\n",
        "print(\"Python Keywords:\")\n",
        "print(keyword.kwlist)\n",
        "\n",
        "print(\"\\nTotal number of keywords:\", len(keyword.kwlist))\n"
      ],
      "metadata": {
        "id": "R4IRmtCEyTR3",
        "outputId": "090268c0-9fae-4c14-97e7-78babdd95f25",
        "colab": {
          "base_uri": "https://localhost:8080/",
          "height": 0
        }
      },
      "execution_count": 6,
      "outputs": [
        {
          "output_type": "stream",
          "name": "stdout",
          "text": [
            "Python Keywords:\n",
            "['False', 'None', 'True', 'and', 'as', 'assert', 'async', 'await', 'break', 'class', 'continue', 'def', 'del', 'elif', 'else', 'except', 'finally', 'for', 'from', 'global', 'if', 'import', 'in', 'is', 'lambda', 'nonlocal', 'not', 'or', 'pass', 'raise', 'return', 'try', 'while', 'with', 'yield']\n",
            "\n",
            "Total number of keywords: 35\n"
          ]
        }
      ]
    },
    {
      "cell_type": "markdown",
      "source": [
        "4.Write a program that checks if a given word is a Python keyword."
      ],
      "metadata": {
        "id": "HzL5b9FKyyxa"
      }
    },
    {
      "cell_type": "code",
      "source": [
        "import keyword\n",
        "\n",
        "# Get user input\n",
        "word = input(\"Enter a word to check: \")\n",
        "\n",
        "# Check if it's a keyword\n",
        "if keyword.iskeyword(word):\n",
        "    print(f\"'{word}' is a Python keyword.\")\n",
        "else:\n",
        "    print(f\"'{word}' is NOT a Python keyword.\")\n"
      ],
      "metadata": {
        "id": "wwqmVzqNy3jm",
        "outputId": "b888992a-e918-4a7e-b532-7eb9c3bc209b",
        "colab": {
          "base_uri": "https://localhost:8080/",
          "height": 0
        }
      },
      "execution_count": 7,
      "outputs": [
        {
          "output_type": "stream",
          "name": "stdout",
          "text": [
            "Enter a word to check: else\n",
            "'else' is a Python keyword.\n"
          ]
        }
      ]
    },
    {
      "cell_type": "markdown",
      "source": [
        "5. Create a list and tuple in Python, and demonstrate how attempting to change an element works differently\n",
        "for each."
      ],
      "metadata": {
        "id": "qK5TDSDFzC60"
      }
    },
    {
      "cell_type": "code",
      "source": [
        "# Creating a list\n",
        "my_list = [1, 2, 3, 4]\n",
        "print(\"Original List:\", my_list)\n",
        "\n",
        "# Modifying an element in the list\n",
        "my_list[1] = 99  # Changing the second element\n",
        "print(\"Modified List:\", my_list)  # Works fine ✅\n",
        "\n",
        "# Creating a tuple\n",
        "my_tuple = (1, 2, 3, 4)\n",
        "print(\"\\nOriginal Tuple:\", my_tuple)\n",
        "\n",
        "# Attempting to modify an element in the tuple\n",
        "try:\n",
        "    my_tuple[1] = 99  # This will cause an error ❌\n",
        "except TypeError as e:\n",
        "    print(\"Error:\", e)  # Tuple elements cannot be modified\n"
      ],
      "metadata": {
        "id": "-VXSJJo2zJKz",
        "outputId": "553de4e8-d1e5-4c3f-f443-6ba34d5bf657",
        "colab": {
          "base_uri": "https://localhost:8080/",
          "height": 0
        }
      },
      "execution_count": 8,
      "outputs": [
        {
          "output_type": "stream",
          "name": "stdout",
          "text": [
            "Original List: [1, 2, 3, 4]\n",
            "Modified List: [1, 99, 3, 4]\n",
            "\n",
            "Original Tuple: (1, 2, 3, 4)\n",
            "Error: 'tuple' object does not support item assignment\n"
          ]
        }
      ]
    },
    {
      "cell_type": "markdown",
      "source": [
        "6.Write a function to demonstrate the behavior of mutable and immutable arguments."
      ],
      "metadata": {
        "id": "zvDBSki9zSR1"
      }
    },
    {
      "cell_type": "code",
      "source": [
        "def modify_immutable(num, text):\n",
        "    num += 10  # Creates a new integer object\n",
        "    text += \" World\"  # Creates a new string object\n",
        "    print(\"Inside function (Immutable):\", num, text)\n",
        "\n",
        "def modify_mutable(lst):\n",
        "    lst.append(99)  # Modifies the same list object\n",
        "    print(\"Inside function (Mutable):\", lst)\n",
        "\n",
        "# Immutable arguments (int, str)\n",
        "x = 5\n",
        "y = \"Hello\"\n",
        "\n",
        "print(\"Before function call (Immutable):\", x, y)\n",
        "modify_immutable(x, y)\n",
        "print(\"After function call (Immutable):\", x, y)  # No change\n",
        "\n",
        "print(\"\\n\" + \"-\"*30 + \"\\n\")\n",
        "\n",
        "# Mutable argument (list)\n",
        "my_list = [1, 2, 3]\n",
        "print(\"Before function call (Mutable):\", my_list)\n",
        "modify_mutable(my_list)\n",
        "print(\"After function call (Mutable):\", my_list)  # List is modified\n"
      ],
      "metadata": {
        "id": "pD620kbqzY0y",
        "outputId": "69ac2297-5667-477a-915a-c78de4358087",
        "colab": {
          "base_uri": "https://localhost:8080/",
          "height": 0
        }
      },
      "execution_count": 9,
      "outputs": [
        {
          "output_type": "stream",
          "name": "stdout",
          "text": [
            "Before function call (Immutable): 5 Hello\n",
            "Inside function (Immutable): 15 Hello World\n",
            "After function call (Immutable): 5 Hello\n",
            "\n",
            "------------------------------\n",
            "\n",
            "Before function call (Mutable): [1, 2, 3]\n",
            "Inside function (Mutable): [1, 2, 3, 99]\n",
            "After function call (Mutable): [1, 2, 3, 99]\n"
          ]
        }
      ]
    },
    {
      "cell_type": "markdown",
      "source": [
        "7. Write a function to demonstrate the behavior of mutable and immutable arguments."
      ],
      "metadata": {
        "id": "4JwbeboVznTK"
      }
    },
    {
      "cell_type": "code",
      "source": [
        "def modify_immutable(num, text):\n",
        "    print(\"\\nInside function (Immutable) - Before Modification:\", num, text)\n",
        "    num += 10  # Creates a new integer object\n",
        "    text += \" World\"  # Creates a new string object\n",
        "    print(\"Inside function (Immutable) - After Modification:\", num, text)\n",
        "\n",
        "def modify_mutable(lst):\n",
        "    print(\"\\nInside function (Mutable) - Before Modification:\", lst)\n",
        "    lst.append(99)  # Modifies the same list object\n",
        "    print(\"Inside function (Mutable) - After Modification:\", lst)\n",
        "\n",
        "# Immutable arguments (int, str)\n",
        "x = 5\n",
        "y = \"Hello\"\n",
        "\n",
        "print(\"Before function call (Immutable):\", x, y)\n",
        "modify_immutable(x, y)\n",
        "print(\"After function call (Immutable):\", x, y)  # No change\n",
        "\n",
        "print(\"\\n\" + \"-\"*40 + \"\\n\")\n",
        "\n",
        "# Mutable argument (list)\n",
        "my_list = [1, 2, 3]\n",
        "print(\"Before function call (Mutable):\", my_list)\n",
        "modify_mutable(my_list)\n",
        "print(\"After function call (Mutable):\", my_list)  # List is modified\n"
      ],
      "metadata": {
        "id": "xzie2uStzu27",
        "outputId": "dc291456-1432-46fe-ebe4-c13a92396c0d",
        "colab": {
          "base_uri": "https://localhost:8080/"
        }
      },
      "execution_count": 10,
      "outputs": [
        {
          "output_type": "stream",
          "name": "stdout",
          "text": [
            "Before function call (Immutable): 5 Hello\n",
            "\n",
            "Inside function (Immutable) - Before Modification: 5 Hello\n",
            "Inside function (Immutable) - After Modification: 15 Hello World\n",
            "After function call (Immutable): 5 Hello\n",
            "\n",
            "----------------------------------------\n",
            "\n",
            "Before function call (Mutable): [1, 2, 3]\n",
            "\n",
            "Inside function (Mutable) - Before Modification: [1, 2, 3]\n",
            "Inside function (Mutable) - After Modification: [1, 2, 3, 99]\n",
            "After function call (Mutable): [1, 2, 3, 99]\n"
          ]
        }
      ]
    },
    {
      "cell_type": "markdown",
      "source": [
        "8.Write a program to demonstrate the use of logical operators."
      ],
      "metadata": {
        "id": "mfomGxDQz5nP"
      }
    },
    {
      "cell_type": "code",
      "source": [
        "# User input for demonstration\n",
        "a = int(input(\"Enter first number (a): \"))\n",
        "b = int(input(\"Enter second number (b): \"))\n",
        "\n",
        "# Using AND operator\n",
        "if a > 0 and b > 0:\n",
        "    print(\"Both numbers are positive (AND condition met).\")\n",
        "else:\n",
        "    print(\"At least one number is not positive (AND condition failed).\")\n",
        "\n",
        "# Using OR operator\n",
        "if a > 0 or b > 0:\n",
        "    print(\"At least one number is positive (OR condition met).\")\n",
        "else:\n",
        "    print(\"Both numbers are non-positive (OR condition failed).\")\n",
        "\n",
        "# Using NOT operator\n",
        "if not (a < 0 and b < 0):\n",
        "    print(\"Not both numbers are negative (NOT condition met).\")\n",
        "else:\n",
        "    print(\"Both numbers are negative (NOT condition failed).\")\n"
      ],
      "metadata": {
        "id": "_d0nj4Tpz-jz",
        "outputId": "e138c6c2-d3a4-478b-e0db-53e5f20803ed",
        "colab": {
          "base_uri": "https://localhost:8080/"
        }
      },
      "execution_count": 11,
      "outputs": [
        {
          "output_type": "stream",
          "name": "stdout",
          "text": [
            "Enter first number (a): 5\n",
            "Enter second number (b): 9\n",
            "Both numbers are positive (AND condition met).\n",
            "At least one number is positive (OR condition met).\n",
            "Not both numbers are negative (NOT condition met).\n"
          ]
        }
      ]
    },
    {
      "cell_type": "markdown",
      "source": [
        "9. Write a Python program to convert user input from string to integer, float, and boolean types."
      ],
      "metadata": {
        "id": "HmwZViay04SM"
      }
    },
    {
      "cell_type": "code",
      "source": [
        "# Taking user input as a string\n",
        "user_input = input(\"Enter a value: \")\n",
        "\n",
        "# Converting to integer\n",
        "try:\n",
        "    int_value = int(user_input)\n",
        "    print(\"Integer Value:\", int_value)\n",
        "except ValueError:\n",
        "    print(\"Cannot convert to Integer!\")\n",
        "\n",
        "# Converting to float\n",
        "try:\n",
        "    float_value = float(user_input)\n",
        "    print(\"Float Value:\", float_value)\n",
        "except ValueError:\n",
        "    print(\"Cannot convert to Float!\")\n",
        "\n",
        "# Converting to boolean\n",
        "bool_value = bool(user_input)  # Empty string -> False, Any non-empty string -> True\n",
        "print(\"Boolean Value:\", bool_value)\n"
      ],
      "metadata": {
        "id": "bR9MCaUy0_XE",
        "outputId": "dd81530b-8897-45eb-f092-b1e2e15a4d87",
        "colab": {
          "base_uri": "https://localhost:8080/"
        }
      },
      "execution_count": 12,
      "outputs": [
        {
          "output_type": "stream",
          "name": "stdout",
          "text": [
            "Enter a value: 45\n",
            "Integer Value: 45\n",
            "Float Value: 45.0\n",
            "Boolean Value: True\n"
          ]
        }
      ]
    },
    {
      "cell_type": "markdown",
      "source": [
        "10.Write code to demonstrate type casting with list elements."
      ],
      "metadata": {
        "id": "ZnI6kErr1Hqe"
      }
    },
    {
      "cell_type": "code",
      "source": [
        "# Original list with string elements\n",
        "string_list = [\"10\", \"20\", \"30\", \"40.5\", \"True\"]\n",
        "\n",
        "# Convert string elements to integers (if possible)\n",
        "try:\n",
        "    int_list = [int(x) for x in string_list]\n",
        "    print(\"Integer List:\", int_list)\n",
        "except ValueError as e:\n",
        "    print(\"Error in Integer Conversion:\", e)\n",
        "\n",
        "# Convert string elements to floats\n",
        "try:\n",
        "    float_list = [float(x) for x in string_list]\n",
        "    print(\"Float List:\", float_list)\n",
        "except ValueError as e:\n",
        "    print(\"Error in Float Conversion:\", e)\n",
        "\n",
        "# Convert string elements to boolean\n",
        "bool_list = [bool(x) for x in string_list]\n",
        "print(\"Boolean List:\", bool_list)\n"
      ],
      "metadata": {
        "id": "ZEjm48go1NKE",
        "outputId": "a891b6e3-ceb6-4b1d-ae29-d168d2608974",
        "colab": {
          "base_uri": "https://localhost:8080/"
        }
      },
      "execution_count": 13,
      "outputs": [
        {
          "output_type": "stream",
          "name": "stdout",
          "text": [
            "Error in Integer Conversion: invalid literal for int() with base 10: '40.5'\n",
            "Error in Float Conversion: could not convert string to float: 'True'\n",
            "Boolean List: [True, True, True, True, True]\n"
          ]
        }
      ]
    },
    {
      "cell_type": "markdown",
      "source": [
        "11.Write a program that checks if a number is positive, negative, or zero."
      ],
      "metadata": {
        "id": "w5wD43S11YX5"
      }
    },
    {
      "cell_type": "code",
      "source": [
        "# Taking user input\n",
        "num = float(input(\"Enter a number: \"))\n",
        "\n",
        "# Checking the number type\n",
        "if num > 0:\n",
        "    print(\"The number is Positive.\")\n",
        "elif num < 0:\n",
        "    print(\"The number is Negative.\")\n",
        "else:\n",
        "    print(\"The number is Zero.\")\n"
      ],
      "metadata": {
        "id": "ZKiolv_U1cFL",
        "outputId": "02105ef3-12ec-4821-d49f-736d03f30f32",
        "colab": {
          "base_uri": "https://localhost:8080/"
        }
      },
      "execution_count": 14,
      "outputs": [
        {
          "output_type": "stream",
          "name": "stdout",
          "text": [
            "Enter a number: 7\n",
            "The number is Positive.\n"
          ]
        }
      ]
    },
    {
      "cell_type": "markdown",
      "source": [
        "12. Write a for loop to print numbers from 1 to 10"
      ],
      "metadata": {
        "id": "v5-bHn7f3E8r"
      }
    },
    {
      "cell_type": "code",
      "source": [
        "# Using a for loop to print numbers from 1 to 10\n",
        "for num in range(1, 11):\n",
        "    print(num)\n"
      ],
      "metadata": {
        "id": "elMdMtoj3KHX",
        "outputId": "1d16265e-87ae-4e56-de1d-7a13107f9633",
        "colab": {
          "base_uri": "https://localhost:8080/"
        }
      },
      "execution_count": 15,
      "outputs": [
        {
          "output_type": "stream",
          "name": "stdout",
          "text": [
            "1\n",
            "2\n",
            "3\n",
            "4\n",
            "5\n",
            "6\n",
            "7\n",
            "8\n",
            "9\n",
            "10\n"
          ]
        }
      ]
    },
    {
      "cell_type": "markdown",
      "source": [
        "13. Write a Python program to find the sum of all even numbers between 1 and 50."
      ],
      "metadata": {
        "id": "C2DUEFzl3Pi2"
      }
    },
    {
      "cell_type": "code",
      "source": [
        "# Initialize sum variable\n",
        "sum_even = 0\n",
        "\n",
        "# Loop through numbers from 1 to 50\n",
        "for num in range(1, 51):\n",
        "    if num % 2 == 0:  # Check if the number is even\n",
        "        sum_even += num  # Add even number to sum\n",
        "\n",
        "# Print the result\n",
        "print(\"Sum of all even numbers between 1 and 50:\", sum_even)\n"
      ],
      "metadata": {
        "id": "KxlR0QYl3X91",
        "outputId": "f2527f9f-d12d-4a12-ab3d-45a95b60edc1",
        "colab": {
          "base_uri": "https://localhost:8080/"
        }
      },
      "execution_count": 16,
      "outputs": [
        {
          "output_type": "stream",
          "name": "stdout",
          "text": [
            "Sum of all even numbers between 1 and 50: 650\n"
          ]
        }
      ]
    },
    {
      "cell_type": "markdown",
      "source": [
        "14. Write a program to reverse a string using a while loop."
      ],
      "metadata": {
        "id": "ta9p9ve53eN5"
      }
    },
    {
      "cell_type": "code",
      "source": [
        "# Taking user input\n",
        "string = input(\"Enter a string: \")\n",
        "\n",
        "# Initialize variables\n",
        "reversed_string = \"\"\n",
        "index = len(string) - 1  # Start from the last character\n",
        "\n",
        "# Using while loop to reverse the string\n",
        "while index >= 0:\n",
        "    reversed_string += string[index]  # Append character in reverse order\n",
        "    index -= 1  # Move to the previous character\n",
        "\n",
        "# Print the reversed string\n",
        "print(\"Reversed String:\", reversed_string)\n"
      ],
      "metadata": {
        "id": "zH0Qxz7A3jKM",
        "outputId": "8faf7af2-f1d1-45f9-fd00-c87d92a9ceec",
        "colab": {
          "base_uri": "https://localhost:8080/"
        }
      },
      "execution_count": 17,
      "outputs": [
        {
          "output_type": "stream",
          "name": "stdout",
          "text": [
            "Enter a string: 40\n",
            "Reversed String: 04\n"
          ]
        }
      ]
    },
    {
      "cell_type": "markdown",
      "source": [
        "15.Write a Python program to calculate the factorial of a number provided by the user using a while loop."
      ],
      "metadata": {
        "id": "Lbg4R7N63o3R"
      }
    },
    {
      "cell_type": "code",
      "source": [
        "# Taking user input\n",
        "num = int(input(\"Enter a number: \"))\n",
        "\n",
        "# Initialize factorial result and counter\n",
        "factorial = 1\n",
        "i = num  # Start from the given number\n",
        "\n",
        "# Using while loop to calculate factorial\n",
        "while i > 0:\n",
        "    factorial *= i  # Multiply factorial by current number\n",
        "    i -= 1  # Decrease counter\n",
        "\n",
        "# Print the result\n",
        "print(f\"Factorial of {num} is: {factorial}\")\n"
      ],
      "metadata": {
        "id": "sCiYJSBx3x4s",
        "outputId": "3d161438-a229-4aa1-8613-c7918b3e1f47",
        "colab": {
          "base_uri": "https://localhost:8080/"
        }
      },
      "execution_count": 18,
      "outputs": [
        {
          "output_type": "stream",
          "name": "stdout",
          "text": [
            "Enter a number: 30\n",
            "Factorial of 30 is: 265252859812191058636308480000000\n"
          ]
        }
      ]
    }
  ]
}